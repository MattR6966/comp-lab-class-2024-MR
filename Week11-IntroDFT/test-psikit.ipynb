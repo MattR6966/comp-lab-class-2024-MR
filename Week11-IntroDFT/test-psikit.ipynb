{
 "cells": [
  {
   "cell_type": "code",
   "execution_count": 5,
   "id": "a5a29ad1-1ff8-4529-87d9-20dcf45ee600",
   "metadata": {},
   "outputs": [
    {
     "name": "stdout",
     "output_type": "stream",
     "text": [
      "Defaulting to user installation because normal site-packages is not writeable\n",
      "Requirement already satisfied: psikit in /ext3/miniconda3/lib/python3.9/site-packages (0.2.0)\n",
      "Requirement already satisfied: debtcollector in /ext3/miniconda3/lib/python3.9/site-packages (from psikit) (2.5.0)\n",
      "Requirement already satisfied: wrapt>=1.7.0 in /ext3/miniconda3/lib/python3.9/site-packages (from debtcollector->psikit) (1.14.1)\n",
      "Note: you may need to restart the kernel to use updated packages.\n"
     ]
    }
   ],
   "source": [
    "pip install psikit"
   ]
  },
  {
   "cell_type": "code",
   "execution_count": 16,
   "id": "5519b68b-ff2e-4209-9b1a-57faa1ae12d7",
   "metadata": {},
   "outputs": [
    {
     "name": "stdout",
     "output_type": "stream",
     "text": [
      "SCF Energy:  -230.7122796510689\n",
      "HOMO:  -0.32848532425407684\n",
      "LUMO:  0.14565232713107995\n",
      "SCF Total Dipole Moment: 0.0\n"
     ]
    }
   ],
   "source": [
    "from psikit import Psikit\n",
    "pk=Psikit(debug=True,threads=1,memory=16)\n",
    "pk.read_from_smiles(\"c1ccccc1\")\n",
    "print(\"SCF Energy: \", pk.energy())\n",
    "print(\"HOMO: \", pk.HOMO)\n",
    "print(\"LUMO: \", pk.LUMO)\n",
    "x, y, z, total = pk.dipolemoment\n",
    "print(\"SCF Total Dipole Moment: {}\".format(total))\n",
    "# SCF Energy:  -230.712279648862\n",
    "# HOMO:  -0.32848562009092513\n",
    "# LUMO:  0.1456515222506689\n",
    "# SCF Total Dipole Moment: 3.292464934070545e-05"
   ]
  },
  {
   "cell_type": "code",
   "execution_count": 17,
   "id": "c17d1251-01fd-4edd-9ae2-0fa3c9fec412",
   "metadata": {},
   "outputs": [
    {
     "name": "stdout",
     "output_type": "stream",
     "text": [
      "Optimizer: Optimization complete!\n",
      "Optimized SCF Energy:  -230.71352354206448\n"
     ]
    }
   ],
   "source": [
    "pk=Psikit(debug=True,threads=1,memory=16)\n",
    "pk.read_from_smiles(\"c1ccccc1\")\n",
    "print(\"Optimized SCF Energy: \", pk.optimize())\n",
    "# Optimizer: Optimization complete!\n",
    "# Optimized SCF Energy:  -230.71352354223438"
   ]
  },
  {
   "cell_type": "code",
   "execution_count": 18,
   "id": "e19a1be6-99be-4a69-add6-159ffbf757ca",
   "metadata": {},
   "outputs": [
    {
     "name": "stdout",
     "output_type": "stream",
     "text": [
      "Optimizer: Optimization complete!\n",
      "C ESP:-0.31409712415823482\tRESP:-0.29797813527565259\n",
      "C ESP:0.81046255157828817\tRESP:0.81046255157828861\n",
      "O ESP:-0.60287122465189147\tRESP:-0.60287122465189169\n",
      "O ESP:-0.66338131699886149\tRESP:-0.6633813169988616\n",
      "H ESP:0.10516275375600112\tRESP:0.099789757461806988\n",
      "H ESP:0.10516275375600112\tRESP:0.099789757461806988\n",
      "H ESP:0.10516275375600112\tRESP:0.099789757461806988\n",
      "H ESP:0.45439885296269633\tRESP:0.45439885296269633\n",
      "Optimizer: Optimization complete!\n"
     ]
    },
    {
     "data": {
      "text/plain": [
       "array([-0.29347665,  0.32966212, -0.34933944, -0.29080761,  0.12294386,\n",
       "        0.12405637,  0.12014282,  0.23681853])"
      ]
     },
     "execution_count": 18,
     "metadata": {},
     "output_type": "execute_result"
    }
   ],
   "source": [
    "# REF http://ambermd.org/tutorials/advanced/tutorial1/files/resp_paper_jacs.pdf\n",
    "pk.read_from_smiles(\"CC(=O)O\")\n",
    "pk.optimize()\n",
    "# Optimizer: Optimization complete!\n",
    "# -227.82180859253418\n",
    "pk.calc_resp_charges()\n",
    "# array([-0.32506898,  0.83672649, -0.61924915, -0.66135715,  0.10450057,\n",
    "#    0.10478188,  0.10780051,  0.45186584])\n",
    "\n",
    "for atom in pk.mol.GetAtoms(): \n",
    "    print(atom.GetSymbol(), \"ESP:{}\\tRESP:{}\".format(atom.GetProp(\"EP\"), atom.GetProp(\"RESP\"))) \n",
    "\n",
    "# C ESP:-0.49662019588648315\tRESP:-0.3250689814483399\n",
    "# C ESP:0.91473263536048643\t\tRESP:0.83672648554100837\n",
    "# O ESP:-0.63823808477114718\tRESP:-0.61924915363703359\n",
    "# O ESP:-0.6763331997116846\t\tRESP:-0.66135714989354499\n",
    "# H ESP:0.14625849864628995\t\tRESP:0.10450056830656008\n",
    "# H ESP:0.14578513969681847\t\tRESP:0.10478187811883517\n",
    "# H ESP:0.1530843954112609\t\tRESP:0.1078005104750676\n",
    "# H ESP:0.45133081125445906\t\tRESP:0.45186584253744722\n",
    "\n",
    "### Compute Mulliken charges and Lowdin charges\n",
    "pk=Psikit(debug=True,threads=1,memory=16)\n",
    "pk.read_from_smiles(\"CC(=O)O\")\n",
    "pk.optimize() # or pk.energy()\n",
    "\n",
    "pk.calc_mulliken_charges()\n",
    "# array([-0.42203029,  0.72794785, -0.55419051, -0.59333358,  0.16369722,\n",
    "#    0.1636994 ,  0.15462075,  0.35958916])\n",
    "\n",
    "pk.calc_lowdin_charges()\n",
    "#array([-0.30006577,  0.33900448, -0.35983788, -0.28463832,  0.12439944,\n",
    "#    0.12810672,  0.11935266,  0.23367866])"
   ]
  },
  {
   "cell_type": "code",
   "execution_count": 19,
   "id": "ded8a093-60f1-4fb5-845f-684e5a0ad4ec",
   "metadata": {},
   "outputs": [
    {
     "ename": "NameError",
     "evalue": "name 'your_mol_object' is not defined",
     "output_type": "error",
     "traceback": [
      "\u001b[0;31m---------------------------------------------------------------------------\u001b[0m",
      "\u001b[0;31mNameError\u001b[0m                                 Traceback (most recent call last)",
      "Cell \u001b[0;32mIn [19], line 3\u001b[0m\n\u001b[1;32m      1\u001b[0m \u001b[38;5;28;01mfrom\u001b[39;00m \u001b[38;5;21;01mpsikit\u001b[39;00m \u001b[38;5;28;01mimport\u001b[39;00m Psikit\n\u001b[1;32m      2\u001b[0m pk \u001b[38;5;241m=\u001b[39m Psikit()\n\u001b[0;32m----> 3\u001b[0m pk\u001b[38;5;241m.\u001b[39mmol \u001b[38;5;241m=\u001b[39m \u001b[43myour_mol_object\u001b[49m\n",
      "\u001b[0;31mNameError\u001b[0m: name 'your_mol_object' is not defined"
     ]
    }
   ],
   "source": []
  },
  {
   "cell_type": "code",
   "execution_count": null,
   "id": "37a61449-8242-4c05-8e9f-f7db5ddedcee",
   "metadata": {},
   "outputs": [],
   "source": []
  }
 ],
 "metadata": {
  "kernelspec": {
   "display_name": "lab_env_2024",
   "language": "python",
   "name": "lab_env_2024"
  },
  "language_info": {
   "codemirror_mode": {
    "name": "ipython",
    "version": 3
   },
   "file_extension": ".py",
   "mimetype": "text/x-python",
   "name": "python",
   "nbconvert_exporter": "python",
   "pygments_lexer": "ipython3",
   "version": "3.9.12"
  }
 },
 "nbformat": 4,
 "nbformat_minor": 5
}
