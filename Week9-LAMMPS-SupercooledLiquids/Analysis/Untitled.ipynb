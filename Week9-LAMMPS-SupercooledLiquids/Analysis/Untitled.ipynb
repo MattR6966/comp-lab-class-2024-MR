{
 "cells": [
  {
   "cell_type": "code",
   "execution_count": 14,
   "id": "3f7d15e2-adef-4e4e-bfd3-f3524da3ab62",
   "metadata": {},
   "outputs": [
    {
     "name": "stderr",
     "output_type": "stream",
     "text": [
      "Exception ignored in: <function ReaderBase.__del__ at 0x14d2b9c2c900>\n",
      "Traceback (most recent call last):\n",
      "  File \"/home/mr6966/.local/lib/python3.11/site-packages/MDAnalysis/coordinates/base.py\", line 1532, in __del__\n",
      "    self.close()\n",
      "  File \"/home/mr6966/.local/lib/python3.11/site-packages/MDAnalysis/coordinates/DCD.py\", line 181, in close\n",
      "    self._file.close()\n",
      "    ^^^^^^^^^^\n",
      "AttributeError: 'DCDReader' object has no attribute '_file'\n"
     ]
    },
    {
     "name": "stdout",
     "output_type": "stream",
     "text": [
      "Files not found: path/to/your/data.csv, path/to/your/data1.csv\n"
     ]
    }
   ],
   "source": [
    "import pandas as pd\n",
    "import numpy as np\n",
    "import seaborn as sns\n",
    "import matplotlib.pyplot as plt\n",
    "import matplotlib.gridspec as gridspec\n",
    "from pathlib import Path\n",
    "\n",
    "# Define the paths to the CSV files\n",
    "data_path = Path('../Data/equil/kalj_T{temp}_n360_v300.lammpstrj')\n",
    "data1_path = Path('path/to/your/data1.csv')\n",
    "\n",
    "# Check if the files exist\n",
    "if not data_path.exists() or not data1_path.exists():\n",
    "    print(f\"Files not found: {data_path}, {data1_path}\")\n",
    "else:\n",
    "    # Load the data from CSV files\n",
    "    data = pd.read_csv(data_path)\n",
    "    data1 = pd.read_csv(data1_path)\n",
    "\n",
    "    print(data.head())\n",
    "    print(data1.head())\n",
    "\n",
    "    sns.set_theme(style='white')\n",
    "\n",
    "    fig = plt.figure(figsize=(12, 6))\n",
    "    gs = gridspec.GridSpec(nrows=1, ncols=2, width_ratios=[1, 1], wspace=0.4)  # Adjust `wspace` for horizontal spacing\n",
    "\n",
    "    ax1 = plt.subplot(gs[0])\n",
    "    if 'SMU-1 Time (s)' in data.columns and 'SMU-1 Current (A)' in data.columns:\n",
    "        sns.lineplot(data=data, x='SMU-1 Time (s)', y='SMU-1 Current (A)', ax=ax1)\n",
    "        ax1.set_title('Twisted TTF-I')\n",
    "        ax1.set_xlabel('Time (s)')\n",
    "        ax1.set_ylabel('Current (A)')\n",
    "        plt.gca().get_yaxis().set_visible(False)\n",
    "    else:\n",
    "        print(\"Columns 'SMU-1 Time (s)' and/or 'SMU-1 Current (A)' not found in data\")\n",
    "\n",
    "    ax2 = plt.subplot(gs[1])\n",
    "    if 'SMU-1 Time (s)' in data1.columns and 'SMU-1 Current (A)' in data1.columns:\n",
    "        sns.lineplot(data=data1, x='SMU-1 Time (s)', y='SMU-1 Current (A)', ax=ax2)\n",
    "        ax2.set_title('30dB')\n",
    "        ax2.set_xlabel('Time (s)')\n",
    "        ax2.set_ylabel('Current (A)')\n",
    "        plt.gca().get_yaxis().set_visible(False)\n",
    "    else:\n",
    "        print(\"Columns 'SMU-1 Time (s)' and/or 'SMU-1 Current (A)' not found in data1\")\n",
    "\n",
    "    plt.show()"
   ]
  },
  {
   "cell_type": "code",
   "execution_count": 11,
   "id": "cc2620d6-7e68-414e-94c6-a69b37441e63",
   "metadata": {},
   "outputs": [],
   "source": [
    "# Compute RDF\n"
   ]
  },
  {
   "cell_type": "code",
   "execution_count": 12,
   "id": "390705cc-9e4c-43b0-b270-b88a6a2e2f4d",
   "metadata": {},
   "outputs": [
    {
     "ename": "NameError",
     "evalue": "name 'u' is not defined",
     "output_type": "error",
     "traceback": [
      "\u001b[0;31m---------------------------------------------------------------------------\u001b[0m",
      "\u001b[0;31mNameError\u001b[0m                                 Traceback (most recent call last)",
      "Cell \u001b[0;32mIn[12], line 2\u001b[0m\n\u001b[1;32m      1\u001b[0m \u001b[38;5;66;03m# Compute MSD\u001b[39;00m\n\u001b[0;32m----> 2\u001b[0m msd_analysis \u001b[38;5;241m=\u001b[39m msd\u001b[38;5;241m.\u001b[39mEinsteinMSD(u, select\u001b[38;5;241m=\u001b[39m\u001b[38;5;124m'\u001b[39m\u001b[38;5;124mtype 1\u001b[39m\u001b[38;5;124m'\u001b[39m, msd_type\u001b[38;5;241m=\u001b[39m\u001b[38;5;124m'\u001b[39m\u001b[38;5;124mxyz\u001b[39m\u001b[38;5;124m'\u001b[39m, fft\u001b[38;5;241m=\u001b[39m\u001b[38;5;28;01mTrue\u001b[39;00m)\n\u001b[1;32m      3\u001b[0m msd_analysis\u001b[38;5;241m.\u001b[39mrun()\n\u001b[1;32m      5\u001b[0m \u001b[38;5;66;03m# Extract MSD results\u001b[39;00m\n",
      "\u001b[0;31mNameError\u001b[0m: name 'u' is not defined"
     ]
    }
   ],
   "source": [
    "# Compute MSD\n",
    "msd_analysis = msd.EinsteinMSD(u, select='type 1', msd_type='xyz', fft=True)\n",
    "msd_analysis.run()\n",
    "\n",
    "# Extract MSD results\n",
    "msd_times = msd_analysis.times\n",
    "msd_values = msd_analysis.results.timeseries\n",
    "\n",
    "# Plot MSD\n",
    "plt.figure()\n",
    "plt.loglog(msd_times, msd_values)\n",
    "plt.xlabel('Time')\n",
    "plt.ylabel('MSD')\n",
    "plt.savefig('../Figures/msd.png')\n",
    "plt.title('MSD of Supercooled Liquid')\n",
    "plt.show()"
   ]
  },
  {
   "cell_type": "code",
   "execution_count": 3,
   "id": "92fe9cda-9e26-4837-b24a-281f624977cf",
   "metadata": {},
   "outputs": [
    {
     "name": "stderr",
     "output_type": "stream",
     "text": [
      "/home/mr6966/.local/lib/python3.11/site-packages/MDAnalysis/topology/LAMMPSParser.py:632: UserWarning: Guessed all Masses to 1.0\n",
      "  warnings.warn('Guessed all Masses to 1.0')\n"
     ]
    },
    {
     "ename": "OSError",
     "evalue": "DCD file does not exist",
     "output_type": "error",
     "traceback": [
      "\u001b[0;31m---------------------------------------------------------------------------\u001b[0m",
      "\u001b[0;31mOSError\u001b[0m                                   Traceback (most recent call last)",
      "Cell \u001b[0;32mIn[3], line 16\u001b[0m\n\u001b[1;32m     13\u001b[0m \u001b[38;5;66;03m# Loop over each temperature and calculate the MSD\u001b[39;00m\n\u001b[1;32m     14\u001b[0m \u001b[38;5;28;01mfor\u001b[39;00m temp \u001b[38;5;129;01min\u001b[39;00m temperatures:\n\u001b[1;32m     15\u001b[0m     \u001b[38;5;66;03m# Load the trajectory for the given temperature\u001b[39;00m\n\u001b[0;32m---> 16\u001b[0m     u \u001b[38;5;241m=\u001b[39m mda\u001b[38;5;241m.\u001b[39mUniverse(\u001b[38;5;124mf\u001b[39m\u001b[38;5;124m\"\u001b[39m\u001b[38;5;124m../Data/equil/kalj_T\u001b[39m\u001b[38;5;132;01m{\u001b[39;00mtemp\u001b[38;5;132;01m}\u001b[39;00m\u001b[38;5;124m_n360_v300.lammpstrj\u001b[39m\u001b[38;5;124m\"\u001b[39m, \u001b[38;5;124mf\u001b[39m\u001b[38;5;124m\"\u001b[39m\u001b[38;5;124m../Data/prod/kalj_T\u001b[39m\u001b[38;5;132;01m{\u001b[39;00mtemp\u001b[38;5;132;01m}\u001b[39;00m\u001b[38;5;124m_n360_v300_prod_50000_1.unwrap.dcd\u001b[39m\u001b[38;5;124m\"\u001b[39m, topology_format\u001b[38;5;241m=\u001b[39m\u001b[38;5;124m\"\u001b[39m\u001b[38;5;124mLAMMPSDUMP\u001b[39m\u001b[38;5;124m\"\u001b[39m)\n\u001b[1;32m     18\u001b[0m     \u001b[38;5;66;03m# Compute MSD\u001b[39;00m\n\u001b[1;32m     19\u001b[0m     msd_analysis \u001b[38;5;241m=\u001b[39m msd\u001b[38;5;241m.\u001b[39mEinsteinMSD(u, select\u001b[38;5;241m=\u001b[39m\u001b[38;5;124m'\u001b[39m\u001b[38;5;124mtype 1\u001b[39m\u001b[38;5;124m'\u001b[39m, msd_type\u001b[38;5;241m=\u001b[39m\u001b[38;5;124m'\u001b[39m\u001b[38;5;124mxyz\u001b[39m\u001b[38;5;124m'\u001b[39m, fft\u001b[38;5;241m=\u001b[39m\u001b[38;5;28;01mTrue\u001b[39;00m)\n",
      "File \u001b[0;32m~/.local/lib/python3.11/site-packages/MDAnalysis/core/universe.py:375\u001b[0m, in \u001b[0;36mUniverse.__init__\u001b[0;34m(self, topology, all_coordinates, format, topology_format, transformations, guess_bonds, vdwradii, fudge_factor, lower_bound, in_memory, in_memory_step, *coordinates, **kwargs)\u001b[0m\n\u001b[1;32m    370\u001b[0m coordinates \u001b[38;5;241m=\u001b[39m _resolve_coordinates(\u001b[38;5;28mself\u001b[39m\u001b[38;5;241m.\u001b[39mfilename, \u001b[38;5;241m*\u001b[39mcoordinates,\n\u001b[1;32m    371\u001b[0m                                    \u001b[38;5;28mformat\u001b[39m\u001b[38;5;241m=\u001b[39m\u001b[38;5;28mformat\u001b[39m,\n\u001b[1;32m    372\u001b[0m                                    all_coordinates\u001b[38;5;241m=\u001b[39mall_coordinates)\n\u001b[1;32m    374\u001b[0m \u001b[38;5;28;01mif\u001b[39;00m coordinates:\n\u001b[0;32m--> 375\u001b[0m     \u001b[38;5;28mself\u001b[39m\u001b[38;5;241m.\u001b[39mload_new(coordinates, \u001b[38;5;28mformat\u001b[39m\u001b[38;5;241m=\u001b[39m\u001b[38;5;28mformat\u001b[39m, in_memory\u001b[38;5;241m=\u001b[39min_memory,\n\u001b[1;32m    376\u001b[0m                 in_memory_step\u001b[38;5;241m=\u001b[39min_memory_step, \u001b[38;5;241m*\u001b[39m\u001b[38;5;241m*\u001b[39mkwargs)\n\u001b[1;32m    378\u001b[0m \u001b[38;5;28;01mif\u001b[39;00m transformations:\n\u001b[1;32m    379\u001b[0m     \u001b[38;5;28;01mif\u001b[39;00m \u001b[38;5;28mcallable\u001b[39m(transformations):\n",
      "File \u001b[0;32m~/.local/lib/python3.11/site-packages/MDAnalysis/core/universe.py:580\u001b[0m, in \u001b[0;36mUniverse.load_new\u001b[0;34m(self, filename, format, in_memory, in_memory_step, **kwargs)\u001b[0m\n\u001b[1;32m    577\u001b[0m \u001b[38;5;66;03m# supply number of atoms for readers that cannot do it for themselves\u001b[39;00m\n\u001b[1;32m    578\u001b[0m kwargs[\u001b[38;5;124m'\u001b[39m\u001b[38;5;124mn_atoms\u001b[39m\u001b[38;5;124m'\u001b[39m] \u001b[38;5;241m=\u001b[39m \u001b[38;5;28mself\u001b[39m\u001b[38;5;241m.\u001b[39matoms\u001b[38;5;241m.\u001b[39mn_atoms\n\u001b[0;32m--> 580\u001b[0m \u001b[38;5;28mself\u001b[39m\u001b[38;5;241m.\u001b[39mtrajectory \u001b[38;5;241m=\u001b[39m reader(filename, \u001b[38;5;28mformat\u001b[39m\u001b[38;5;241m=\u001b[39m\u001b[38;5;28mformat\u001b[39m, \u001b[38;5;241m*\u001b[39m\u001b[38;5;241m*\u001b[39mkwargs)\n\u001b[1;32m    581\u001b[0m \u001b[38;5;28;01mif\u001b[39;00m \u001b[38;5;28mself\u001b[39m\u001b[38;5;241m.\u001b[39mtrajectory\u001b[38;5;241m.\u001b[39mn_atoms \u001b[38;5;241m!=\u001b[39m \u001b[38;5;28mlen\u001b[39m(\u001b[38;5;28mself\u001b[39m\u001b[38;5;241m.\u001b[39matoms):\n\u001b[1;32m    582\u001b[0m     \u001b[38;5;28;01mraise\u001b[39;00m \u001b[38;5;167;01mValueError\u001b[39;00m(\u001b[38;5;124m\"\u001b[39m\u001b[38;5;124mThe topology and \u001b[39m\u001b[38;5;132;01m{form}\u001b[39;00m\u001b[38;5;124m trajectory files don\u001b[39m\u001b[38;5;124m'\u001b[39m\u001b[38;5;124mt\u001b[39m\u001b[38;5;124m\"\u001b[39m\n\u001b[1;32m    583\u001b[0m                      \u001b[38;5;124m\"\u001b[39m\u001b[38;5;124m have the same number of atoms!\u001b[39m\u001b[38;5;130;01m\\n\u001b[39;00m\u001b[38;5;124m\"\u001b[39m\n\u001b[1;32m    584\u001b[0m                      \u001b[38;5;124m\"\u001b[39m\u001b[38;5;124mTopology number of atoms \u001b[39m\u001b[38;5;132;01m{top_n_atoms}\u001b[39;00m\u001b[38;5;130;01m\\n\u001b[39;00m\u001b[38;5;124m\"\u001b[39m\n\u001b[0;32m   (...)\u001b[0m\n\u001b[1;32m    588\u001b[0m                          fname\u001b[38;5;241m=\u001b[39mfilename,\n\u001b[1;32m    589\u001b[0m                          trj_n_atoms\u001b[38;5;241m=\u001b[39m\u001b[38;5;28mself\u001b[39m\u001b[38;5;241m.\u001b[39mtrajectory\u001b[38;5;241m.\u001b[39mn_atoms))\n",
      "File \u001b[0;32m~/.local/lib/python3.11/site-packages/MDAnalysis/lib/util.py:2553\u001b[0m, in \u001b[0;36mstore_init_arguments.<locals>.wrapper\u001b[0;34m(self, *args, **kwargs)\u001b[0m\n\u001b[1;32m   2551\u001b[0m             \u001b[38;5;28;01melse\u001b[39;00m:\n\u001b[1;32m   2552\u001b[0m                 \u001b[38;5;28mself\u001b[39m\u001b[38;5;241m.\u001b[39m_kwargs[key] \u001b[38;5;241m=\u001b[39m arg\n\u001b[0;32m-> 2553\u001b[0m \u001b[38;5;28;01mreturn\u001b[39;00m func(\u001b[38;5;28mself\u001b[39m, \u001b[38;5;241m*\u001b[39margs, \u001b[38;5;241m*\u001b[39m\u001b[38;5;241m*\u001b[39mkwargs)\n",
      "File \u001b[0;32m~/.local/lib/python3.11/site-packages/MDAnalysis/coordinates/DCD.py:144\u001b[0m, in \u001b[0;36mDCDReader.__init__\u001b[0;34m(self, filename, convert_units, dt, **kwargs)\u001b[0m\n\u001b[1;32m    126\u001b[0m \u001b[38;5;250m\u001b[39m\u001b[38;5;124;03m\"\"\"\u001b[39;00m\n\u001b[1;32m    127\u001b[0m \u001b[38;5;124;03mParameters\u001b[39;00m\n\u001b[1;32m    128\u001b[0m \u001b[38;5;124;03m----------\u001b[39;00m\n\u001b[0;32m   (...)\u001b[0m\n\u001b[1;32m    140\u001b[0m \u001b[38;5;124;03m   Changed to use libdcd.pyx library and removed the correl function\u001b[39;00m\n\u001b[1;32m    141\u001b[0m \u001b[38;5;124;03m\"\"\"\u001b[39;00m\n\u001b[1;32m    142\u001b[0m \u001b[38;5;28msuper\u001b[39m(DCDReader, \u001b[38;5;28mself\u001b[39m)\u001b[38;5;241m.\u001b[39m\u001b[38;5;21m__init__\u001b[39m(\n\u001b[1;32m    143\u001b[0m     filename, convert_units\u001b[38;5;241m=\u001b[39mconvert_units, \u001b[38;5;241m*\u001b[39m\u001b[38;5;241m*\u001b[39mkwargs)\n\u001b[0;32m--> 144\u001b[0m \u001b[38;5;28mself\u001b[39m\u001b[38;5;241m.\u001b[39m_file \u001b[38;5;241m=\u001b[39m DCDFile(\u001b[38;5;28mself\u001b[39m\u001b[38;5;241m.\u001b[39mfilename)\n\u001b[1;32m    145\u001b[0m \u001b[38;5;28mself\u001b[39m\u001b[38;5;241m.\u001b[39mn_atoms \u001b[38;5;241m=\u001b[39m \u001b[38;5;28mself\u001b[39m\u001b[38;5;241m.\u001b[39m_file\u001b[38;5;241m.\u001b[39mheader[\u001b[38;5;124m'\u001b[39m\u001b[38;5;124mnatoms\u001b[39m\u001b[38;5;124m'\u001b[39m]\n\u001b[1;32m    147\u001b[0m delta \u001b[38;5;241m=\u001b[39m mdaunits\u001b[38;5;241m.\u001b[39mconvert(\u001b[38;5;28mself\u001b[39m\u001b[38;5;241m.\u001b[39m_file\u001b[38;5;241m.\u001b[39mheader[\u001b[38;5;124m'\u001b[39m\u001b[38;5;124mdelta\u001b[39m\u001b[38;5;124m'\u001b[39m],\n\u001b[1;32m    148\u001b[0m                          \u001b[38;5;28mself\u001b[39m\u001b[38;5;241m.\u001b[39munits[\u001b[38;5;124m'\u001b[39m\u001b[38;5;124mtime\u001b[39m\u001b[38;5;124m'\u001b[39m], \u001b[38;5;124m'\u001b[39m\u001b[38;5;124mps\u001b[39m\u001b[38;5;124m'\u001b[39m)\n",
      "File \u001b[0;32m~/.local/lib/python3.11/site-packages/MDAnalysis/lib/formats/libdcd.pyx:168\u001b[0m, in \u001b[0;36mMDAnalysis.lib.formats.libdcd.DCDFile.__cinit__\u001b[0;34m()\u001b[0m\n",
      "File \u001b[0;32m~/.local/lib/python3.11/site-packages/MDAnalysis/lib/formats/libdcd.pyx:257\u001b[0m, in \u001b[0;36mMDAnalysis.lib.formats.libdcd.DCDFile.open\u001b[0;34m()\u001b[0m\n",
      "\u001b[0;31mOSError\u001b[0m: DCD file does not exist"
     ]
    }
   ],
   "source": [
    "import numpy as np\n",
    "import matplotlib.pyplot as plt\n",
    "import MDAnalysis as mda\n",
    "from MDAnalysis.analysis import msd\n",
    "\n",
    "# Define the temperatures\n",
    "temperatures = [1.5, 1.0, 0.9, 0.8, 0.7, 0.65, 0.6, 0.55, 0.5, 0.475]\n",
    "inv_temps = [1/t for t in temperatures]\n",
    "\n",
    "# Initialize a list to store the times where MSD = 1\n",
    "times_msd_1 = []\n",
    "\n",
    "# Loop over each temperature and calculate the MSD\n",
    "for temp in temperatures:\n",
    "    # Load the trajectory for the given temperature\n",
    "    u = mda.Universe(f\"../Data/equil/kalj_T{temp}_n360_v300.lammpstrj\", f\"../Data/prod/kalj_T{temp}_n360_v300_prod_50000_1.unwrap.dcd\", topology_format=\"LAMMPSDUMP\")\n",
    "    \n",
    "    # Compute MSD\n",
    "    msd_analysis = msd.EinsteinMSD(u, select='type 1', msd_type='xyz', fft=True)\n",
    "    msd_analysis.run()\n",
    "    \n",
    "    # Extract MSD results\n",
    "    msd_times = msd_analysis.times\n",
    "    msd_values = msd_analysis.results.timeseries\n",
    "    \n",
    "    # Find the time where MSD = 1\n",
    "    time_msd_1 = msd_times[np.where(msd_values >= 1)[0][0]]\n",
    "    times_msd_1.append(time_msd_1)\n",
    "\n",
    "# Plot time vs 1/T\n",
    "plt.figure()\n",
    "plt.loglog(inv_temps, times_msd_1, 'o-', label='MSD = 1')\n",
    "plt.xlabel('1/T')\n",
    "plt.ylabel('Time where MSD = 1')\n",
    "plt.title('Time where MSD = 1 vs 1/T')\n",
    "plt.legend()\n",
    "plt.savefig('Figures/time_vs_invT.png')\n",
    "plt.show()"
   ]
  },
  {
   "cell_type": "code",
   "execution_count": null,
   "id": "968ede57-bc0f-4582-a709-b29eb056d012",
   "metadata": {},
   "outputs": [],
   "source": [
    "u = mda.Universe(f\"../Data/equil/kalj_T{temp}_n360_v300.lammpstrj\", f\"../Data/prod/kalj_T{temp}_n360_v300_prod.unwrap.dcd\", topology_format=\"LAMMPSDUMP\")\n",
    "    rdf_11 = rdf.InterRDF(u.select_atoms(\"type 1\"), u.select_atoms(\"type 1\"))"
   ]
  },
  {
   "cell_type": "code",
   "execution_count": null,
   "id": "1a3e5f5f-d9e4-41a1-8028-5dd80ac989b6",
   "metadata": {},
   "outputs": [],
   "source": []
  }
 ],
 "metadata": {
  "kernelspec": {
   "display_name": "Python 3 (ipykernel)",
   "language": "python",
   "name": "python3"
  },
  "language_info": {
   "codemirror_mode": {
    "name": "ipython",
    "version": 3
   },
   "file_extension": ".py",
   "mimetype": "text/x-python",
   "name": "python",
   "nbconvert_exporter": "python",
   "pygments_lexer": "ipython3",
   "version": "3.11.7"
  }
 },
 "nbformat": 4,
 "nbformat_minor": 5
}
