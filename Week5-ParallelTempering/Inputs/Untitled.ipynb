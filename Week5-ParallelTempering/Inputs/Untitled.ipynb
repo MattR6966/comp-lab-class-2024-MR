{
 "cells": [
  {
   "cell_type": "code",
   "execution_count": null,
   "id": "a29c041c-5e98-41e5-af32-4957c03165b2",
   "metadata": {},
   "outputs": [],
   "source": [
    "import mdtraj as md\n",
    "import numpy as np\n",
    "import matplotlib.pyplot as plt\n",
    "\n",
    "# Load the trajectory\n",
    "traj = md.load('md.xtc', top='Input/topology.top')\n",
    "\n",
    "# Compute phi and psi angles\n",
    "phi_indices = md.compute_phi(traj)\n",
    "psi_indices = md.compute_psi(traj)\n",
    "\n",
    "# Extract angles\n",
    "phi_angles = np.degrees(phi_indices[0])  # Convert to degrees\n",
    "psi_angles = np.degrees(psi_indices[0])  # Convert to degrees\n",
    "\n",
    "# Plot phi vs time\n",
    "plt.figure(figsize=(12, 5))\n",
    "plt.subplot(1, 2, 1)\n",
    "plt.plot(traj.time, phi_angles)\n",
    "plt.xlabel('Time (ns)')\n",
    "plt.ylabel('Phi Angle (degrees)')\n",
    "plt.title('Phi Angle vs Time')\n",
    "\n",
    "# Plot psi vs time\n",
    "plt.subplot(1, 2, 2)\n",
    "plt.plot(traj.time, psi_angles)\n",
    "plt.xlabel('Time (ns)')\n",
    "plt.ylabel('Psi Angle (degrees)')\n",
    "plt.title('Psi Angle vs Time')\n",
    "\n",
    "plt.tight_layout()\n",
    "plt.show()\n",
    "\n",
    "# Free Energy Surface calculation\n",
    "def calculate_fes(phi_angles, psi_angles, bins=25):\n",
    "    hist, xedges, yedges = np.histogram2d(phi_angles, psi_angles, bins=bins)\n",
    "    # Convert histogram to free energy\n",
    "    fes = -np.log(hist + 1e-10)  # Add small value to avoid log(0)\n",
    "    fes -= np.min(fes)  # Shift minimum to zero\n",
    "    return fes, xedges, yedges\n",
    "\n",
    "fes, xedges, yedges = calculate_fes(phi_angles, psi_angles)\n",
    "\n",
    "# Plot Free Energy Surface\n",
    "plt.figure(figsize=(8, 6))\n",
    "plt.imshow(fes.T, origin='lower', extent=[xedges[0], xedges[-1], yedges[0], yedges[-1]], aspect='auto', cmap='viridis')\n",
    "plt.colorbar(label='Free Energy (kJ/mol)')\n",
    "plt.xlabel('Phi Angle (degrees)')\n",
    "plt.ylabel('Psi Angle (degrees)')\n",
    "plt.title('Free Energy Surface in Phi-Psi Space')\n",
    "plt.show()\n"
   ]
  }
 ],
 "metadata": {
  "kernelspec": {
   "display_name": "Python 3 (ipykernel)",
   "language": "python",
   "name": "python3"
  },
  "language_info": {
   "codemirror_mode": {
    "name": "ipython",
    "version": 3
   },
   "file_extension": ".py",
   "mimetype": "text/x-python",
   "name": "python",
   "nbconvert_exporter": "python",
   "pygments_lexer": "ipython3",
   "version": "3.11.7"
  }
 },
 "nbformat": 4,
 "nbformat_minor": 5
}
