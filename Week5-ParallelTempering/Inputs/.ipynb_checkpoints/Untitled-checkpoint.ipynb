{
 "cells": [
  {
   "cell_type": "code",
   "execution_count": 58,
   "id": "a29c041c-5e98-41e5-af32-4957c03165b2",
   "metadata": {},
   "outputs": [
    {
     "name": "stdout",
     "output_type": "stream",
     "text": [
      "Shape of phi_indices: (4,)\n",
      "The list is not 3D. It is 1 D\n"
     ]
    },
    {
     "ename": "ValueError",
     "evalue": "indices must be ndim 2. You supplied 1",
     "output_type": "error",
     "traceback": [
      "\u001b[0;31m---------------------------------------------------------------------------\u001b[0m",
      "\u001b[0;31mValueError\u001b[0m                                Traceback (most recent call last)",
      "Cell \u001b[0;32mIn[58], line 20\u001b[0m\n\u001b[1;32m     18\u001b[0m     \u001b[38;5;28mprint\u001b[39m(\u001b[38;5;124m\"\u001b[39m\u001b[38;5;124mThe list is not 3D. It is\u001b[39m\u001b[38;5;124m\"\u001b[39m, \u001b[38;5;28mlen\u001b[39m(phi_indices_np\u001b[38;5;241m.\u001b[39mshape), \u001b[38;5;124m\"\u001b[39m\u001b[38;5;124mD\u001b[39m\u001b[38;5;124m\"\u001b[39m)\n\u001b[1;32m     19\u001b[0m \u001b[38;5;66;03m# Extract angles\u001b[39;00m\n\u001b[0;32m---> 20\u001b[0m phi \u001b[38;5;241m=\u001b[39m md\u001b[38;5;241m.\u001b[39mcompute_dihedrals(traj,phi_indices)\n\u001b[1;32m     21\u001b[0m psi \u001b[38;5;241m=\u001b[39m md\u001b[38;5;241m.\u001b[39mcompute_dihedrals(traj,psi_indices)\n\u001b[1;32m     22\u001b[0m \u001b[38;5;66;03m# Plot phi vs time\u001b[39;00m\n",
      "File \u001b[0;32m~/.local/lib/python3.11/site-packages/mdtraj/geometry/dihedral.py:124\u001b[0m, in \u001b[0;36mcompute_dihedrals\u001b[0;34m(traj, indices, periodic, opt)\u001b[0m\n\u001b[1;32m     91\u001b[0m \u001b[38;5;250m\u001b[39m\u001b[38;5;124;03m\"\"\"Compute the dihedral angles between the supplied quartets of atoms in each frame in a trajectory.\u001b[39;00m\n\u001b[1;32m     92\u001b[0m \n\u001b[1;32m     93\u001b[0m \u001b[38;5;124;03mParameters\u001b[39;00m\n\u001b[0;32m   (...)\u001b[0m\n\u001b[1;32m    114\u001b[0m \n\u001b[1;32m    115\u001b[0m \u001b[38;5;124;03m\"\"\"\u001b[39;00m\n\u001b[1;32m    116\u001b[0m xyz \u001b[38;5;241m=\u001b[39m ensure_type(\n\u001b[1;32m    117\u001b[0m     traj\u001b[38;5;241m.\u001b[39mxyz,\n\u001b[1;32m    118\u001b[0m     dtype\u001b[38;5;241m=\u001b[39mnp\u001b[38;5;241m.\u001b[39mfloat32,\n\u001b[0;32m   (...)\u001b[0m\n\u001b[1;32m    122\u001b[0m     warn_on_cast\u001b[38;5;241m=\u001b[39m\u001b[38;5;28;01mFalse\u001b[39;00m,\n\u001b[1;32m    123\u001b[0m )\n\u001b[0;32m--> 124\u001b[0m quartets \u001b[38;5;241m=\u001b[39m ensure_type(\n\u001b[1;32m    125\u001b[0m     indices,\n\u001b[1;32m    126\u001b[0m     dtype\u001b[38;5;241m=\u001b[39mnp\u001b[38;5;241m.\u001b[39mint32,\n\u001b[1;32m    127\u001b[0m     ndim\u001b[38;5;241m=\u001b[39m\u001b[38;5;241m2\u001b[39m,\n\u001b[1;32m    128\u001b[0m     name\u001b[38;5;241m=\u001b[39m\u001b[38;5;124m\"\u001b[39m\u001b[38;5;124mindices\u001b[39m\u001b[38;5;124m\"\u001b[39m,\n\u001b[1;32m    129\u001b[0m     shape\u001b[38;5;241m=\u001b[39m(\u001b[38;5;28;01mNone\u001b[39;00m, \u001b[38;5;241m4\u001b[39m),\n\u001b[1;32m    130\u001b[0m     warn_on_cast\u001b[38;5;241m=\u001b[39m\u001b[38;5;28;01mFalse\u001b[39;00m,\n\u001b[1;32m    131\u001b[0m )\n\u001b[1;32m    132\u001b[0m \u001b[38;5;28;01mif\u001b[39;00m \u001b[38;5;129;01mnot\u001b[39;00m np\u001b[38;5;241m.\u001b[39mall(np\u001b[38;5;241m.\u001b[39mlogical_and(quartets \u001b[38;5;241m<\u001b[39m traj\u001b[38;5;241m.\u001b[39mn_atoms, quartets \u001b[38;5;241m>\u001b[39m\u001b[38;5;241m=\u001b[39m \u001b[38;5;241m0\u001b[39m)):\n\u001b[1;32m    133\u001b[0m     \u001b[38;5;28;01mraise\u001b[39;00m \u001b[38;5;167;01mValueError\u001b[39;00m(\u001b[38;5;124m\"\u001b[39m\u001b[38;5;124mindices must be between 0 and \u001b[39m\u001b[38;5;132;01m%d\u001b[39;00m\u001b[38;5;124m\"\u001b[39m \u001b[38;5;241m%\u001b[39m traj\u001b[38;5;241m.\u001b[39mn_atoms)\n",
      "File \u001b[0;32m~/.local/lib/python3.11/site-packages/mdtraj/utils/validation.py:132\u001b[0m, in \u001b[0;36mensure_type\u001b[0;34m(val, dtype, ndim, name, length, can_be_none, shape, warn_on_cast, add_newaxis_on_deficient_ndim)\u001b[0m\n\u001b[1;32m    130\u001b[0m         val \u001b[38;5;241m=\u001b[39m val[np\u001b[38;5;241m.\u001b[39mnewaxis, \u001b[38;5;241m.\u001b[39m\u001b[38;5;241m.\u001b[39m\u001b[38;5;241m.\u001b[39m]\n\u001b[1;32m    131\u001b[0m     \u001b[38;5;28;01melse\u001b[39;00m:\n\u001b[0;32m--> 132\u001b[0m         \u001b[38;5;28;01mraise\u001b[39;00m \u001b[38;5;167;01mValueError\u001b[39;00m(\u001b[38;5;124mf\u001b[39m\u001b[38;5;124m\"\u001b[39m\u001b[38;5;132;01m{\u001b[39;00mname\u001b[38;5;132;01m}\u001b[39;00m\u001b[38;5;124m must be ndim \u001b[39m\u001b[38;5;132;01m{\u001b[39;00mndim\u001b[38;5;132;01m}\u001b[39;00m\u001b[38;5;124m. You supplied \u001b[39m\u001b[38;5;132;01m{\u001b[39;00mval\u001b[38;5;241m.\u001b[39mndim\u001b[38;5;132;01m}\u001b[39;00m\u001b[38;5;124m\"\u001b[39m)\n\u001b[1;32m    134\u001b[0m val \u001b[38;5;241m=\u001b[39m np\u001b[38;5;241m.\u001b[39mascontiguousarray(val, dtype\u001b[38;5;241m=\u001b[39mdtype)\n\u001b[1;32m    136\u001b[0m \u001b[38;5;28;01mif\u001b[39;00m length \u001b[38;5;129;01mis\u001b[39;00m \u001b[38;5;129;01mnot\u001b[39;00m \u001b[38;5;28;01mNone\u001b[39;00m \u001b[38;5;129;01mand\u001b[39;00m \u001b[38;5;28mlen\u001b[39m(val) \u001b[38;5;241m!=\u001b[39m length:\n",
      "\u001b[0;31mValueError\u001b[0m: indices must be ndim 2. You supplied 1"
     ]
    }
   ],
   "source": [
    "import mdtraj as md\n",
    "import numpy as np\n",
    "import matplotlib.pyplot as plt\n",
    "\n",
    "# Load the trajectory\n",
    "traj = md.load('./adp_T300.trr', top='./adp.gro')\n",
    "\n",
    "# Compute phi and psi angles\n",
    "phi_indices = [[0, 1, 2, 3]]  # N(i)–CA(i)–C(i)–N(i+1)\n",
    "psi_indices = [[1, 2, 3, 4]]  # CA(i)–C(i)–N(i+1)–CA(i+1)\n",
    "phi_indices_np = np.array(phi_indices)\n",
    "print(\"Shape of phi_indices:\", phi_indices_np.shape)\n",
    "\n",
    "# Check if it's 3D\n",
    "if len(phi_indices_np.shape) == 3:\n",
    "    print(\"The list seems 3D!\")\n",
    "else:\n",
    "    print(\"The list is not 3D. It is\", len(phi_indices_np.shape), \"D\")\n",
    "# Extract angles\n",
    "phi = md.compute_dihedrals(traj,phi_indices)\n",
    "psi = md.compute_dihedrals(traj,psi_indices)\n",
    "# Plot phi vs time\n",
    "plt.figure(figsize=(12, 5))\n",
    "plt.subplot(1, 2, 1)\n",
    "plt.plot(traj.time, phi)\n",
    "plt.xlabel('Time (ns)')\n",
    "plt.ylabel('Phi Angle (degrees)')\n",
    "plt.title('Phi Angle vs Time')\n",
    "\n",
    "# Plot psi vs time\n",
    "plt.subplot(1, 2, 2)\n",
    "plt.plot(traj.time, psi)\n",
    "plt.xlabel('Time (ns)')\n",
    "plt.ylabel('Psi Angle (degrees)')\n",
    "plt.title('Psi Angle vs Time')\n",
    "\n",
    "plt.tight_layout()\n",
    "plt.show()\n",
    "\n",
    "# Free Energy Surface calculation\n",
    "def calculate_fes(phi_angles, psi_angles, bins=25):\n",
    "    hist, xedges, yedges = np.histogram2d(phi_angles, psi_angles, bins=bins)\n",
    "    # Convert histogram to free energy\n",
    "    fes = -np.log(hist + 1e-10)  # Add small value to avoid log(0)\n",
    "    fes -= np.min(fes)  # Shift minimum to zero\n",
    "    return fes, xedges, yedges\n",
    "\n",
    "fes, xedges, yedges = calculate_fes(phi_angles, psi_angles)\n",
    "\n",
    "# Plot Free Energy Surface\n",
    "plt.figure(figsize=(8, 6))\n",
    "plt.imshow(fes.T, origin='lower', extent=[xedges[0], xedges[-1], yedges[0], yedges[-1]], aspect='auto', cmap='viridis')\n",
    "plt.colorbar(label='Free Energy (kJ/mol)')\n",
    "plt.xlabel('Phi Angle (degrees)')\n",
    "plt.ylabel('Psi Angle (degrees)')\n",
    "plt.title('Free Energy Surface in Phi-Psi Space')\n",
    "plt.show()\n"
   ]
  },
  {
   "cell_type": "code",
   "execution_count": null,
   "id": "786d42bd-c31a-41c6-a3d8-abf84fd65293",
   "metadata": {},
   "outputs": [],
   "source": []
  }
 ],
 "metadata": {
  "kernelspec": {
   "display_name": "Python 3 (ipykernel)",
   "language": "python",
   "name": "python3"
  },
  "language_info": {
   "codemirror_mode": {
    "name": "ipython",
    "version": 3
   },
   "file_extension": ".py",
   "mimetype": "text/x-python",
   "name": "python",
   "nbconvert_exporter": "python",
   "pygments_lexer": "ipython3",
   "version": "3.11.7"
  }
 },
 "nbformat": 4,
 "nbformat_minor": 5
}
