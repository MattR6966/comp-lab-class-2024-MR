{
 "cells": [
  {
   "cell_type": "code",
   "execution_count": 12,
   "id": "7c3a8845-f897-4088-98a2-b68728c2d7dc",
   "metadata": {},
   "outputs": [
    {
     "name": "stdout",
     "output_type": "stream",
     "text": [
      "Number of atoms: 1405\n",
      "Number of residues: 134\n",
      "Total number of hydrogen bonds: 57\n",
      "Number of helical amino acids: 18\n"
     ]
    }
   ],
   "source": [
    "# Step 1: Import necessary libraries\n",
    "import requests\n",
    "import mdtraj as md\n",
    "import numpy as np\n",
    "import tempfile\n",
    "import os\n",
    "\n",
    "def get_github_file(owner, repo, filepath, branch='main'):\n",
    "    # Construct the URL for the raw file\n",
    "    url = f'https://raw.githubusercontent.com/{owner}/{repo}/{branch}/{filepath}'\n",
    "    \n",
    "    try:\n",
    "        response = requests.get(url)\n",
    "        response.raise_for_status()  # Raise an error for bad responses\n",
    "        return response.text  # Return the content of the file\n",
    "    except requests.exceptions.HTTPError as err:\n",
    "        print(f'HTTP error occurred: {err}')\n",
    "    except Exception as e:\n",
    "        print(f'An error occurred: {e}')\n",
    "\n",
    "if __name__ == \"__main__\":\n",
    "    owner = 'MattR6966'\n",
    "    repo = 'comp-lab-class-2024-MR'\n",
    "    filepath = 'Week2-DataAnalysis/Data/1UBQ_processed.pdb'  # Path to the PDB file\n",
    "    branch = 'main'  # Specify the branch name\n",
    "    \n",
    "    # Fetch the file content from GitHub\n",
    "    file_content = get_github_file(owner, repo, filepath, branch)\n",
    "    \n",
    "    if file_content:\n",
    "        # Step 2: Write the content to a temporary file\n",
    "        with tempfile.NamedTemporaryFile(delete=False, suffix='.pdb') as temp_file:\n",
    "            temp_file.write(file_content.encode('utf-8'))  # Write content as bytes\n",
    "            temp_file_path = temp_file.name  # Store the temporary file path\n",
    "            \n",
    "        # Load the ubiquitin structure\n",
    "        ubiquitin = md.load(temp_file_path)\n",
    "        \n",
    "        # Step 3: Print basic information about the structure\n",
    "        print(f\"Number of atoms: {ubiquitin.n_atoms}\")\n",
    "        print(f\"Number of residues: {ubiquitin.n_residues}\")\n",
    "\n",
    "        # Step 4: Calculate and print the total number of hydrogen bonds\n",
    "        hbonds = md.baker_hubbard(ubiquitin, periodic=False)  # Using a cutoff of 0.35 nm for hydrogen bonds\n",
    "        num_hbonds = len(hbonds)\n",
    "        print(f\"Total number of hydrogen bonds: {num_hbonds}\")\n",
    "\n",
    "        # Step 5: Compute the number of helical amino acids\n",
    "        dssp = md.compute_dssp(ubiquitin)\n",
    "        helix_residues = np.sum(dssp == 'H')  # Count 'H' for helical residues\n",
    "        print(f\"Number of helical amino acids: {helix_residues}\")\n",
    "\n",
    "        # Clean up the temporary file\n",
    "        os.remove(temp_file_path)\n"
   ]
  },
  {
   "cell_type": "code",
   "execution_count": 2,
   "id": "a4057e2a-5dae-450f-85e0-745876f1d857",
   "metadata": {},
   "outputs": [
    {
     "name": "stdout",
     "output_type": "stream",
     "text": [
      "Defaulting to user installation because normal site-packages is not writeable\n",
      "Collecting mdtraj\n",
      "  Downloading mdtraj-1.10.0-cp311-cp311-manylinux_2_17_x86_64.manylinux2014_x86_64.whl.metadata (1.6 kB)\n",
      "Requirement already satisfied: numpy<2.0.0a0,>=1.23 in /share/apps/anaconda3/2024.02/lib/python3.11/site-packages (from mdtraj) (1.26.4)\n",
      "Requirement already satisfied: scipy in /share/apps/anaconda3/2024.02/lib/python3.11/site-packages (from mdtraj) (1.11.4)\n",
      "Collecting astunparse (from mdtraj)\n",
      "  Downloading astunparse-1.6.3-py2.py3-none-any.whl.metadata (4.4 kB)\n",
      "Requirement already satisfied: pyparsing in /share/apps/anaconda3/2024.02/lib/python3.11/site-packages (from mdtraj) (3.0.9)\n",
      "Requirement already satisfied: packaging in /share/apps/anaconda3/2024.02/lib/python3.11/site-packages (from mdtraj) (23.1)\n",
      "Requirement already satisfied: wheel<1.0,>=0.23.0 in /share/apps/anaconda3/2024.02/lib/python3.11/site-packages (from astunparse->mdtraj) (0.41.2)\n",
      "Requirement already satisfied: six<2.0,>=1.6.1 in /share/apps/anaconda3/2024.02/lib/python3.11/site-packages (from astunparse->mdtraj) (1.16.0)\n",
      "Downloading mdtraj-1.10.0-cp311-cp311-manylinux_2_17_x86_64.manylinux2014_x86_64.whl (2.1 MB)\n",
      "\u001b[2K   \u001b[90m━━━━━━━━━━━━━━━━━━━━━━━━━━━━━━━━━━━━━━━━\u001b[0m \u001b[32m2.1/2.1 MB\u001b[0m \u001b[31m8.2 MB/s\u001b[0m eta \u001b[36m0:00:00\u001b[0m:00:01\u001b[0m\n",
      "\u001b[?25hDownloading astunparse-1.6.3-py2.py3-none-any.whl (12 kB)\n",
      "Installing collected packages: astunparse, mdtraj\n",
      "Successfully installed astunparse-1.6.3 mdtraj-1.10.0\n",
      "Note: you may need to restart the kernel to use updated packages.\n"
     ]
    }
   ],
   "source": [
    "pip install mdtraj\n"
   ]
  },
  {
   "cell_type": "code",
   "execution_count": null,
   "id": "64bc11a5-dc4a-429d-a3f5-f21fd9933214",
   "metadata": {},
   "outputs": [],
   "source": []
  }
 ],
 "metadata": {
  "kernelspec": {
   "display_name": "Python 3 (ipykernel)",
   "language": "python",
   "name": "python3"
  },
  "language_info": {
   "codemirror_mode": {
    "name": "ipython",
    "version": 3
   },
   "file_extension": ".py",
   "mimetype": "text/x-python",
   "name": "python",
   "nbconvert_exporter": "python",
   "pygments_lexer": "ipython3",
   "version": "3.11.7"
  }
 },
 "nbformat": 4,
 "nbformat_minor": 5
}
