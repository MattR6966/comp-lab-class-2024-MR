{
 "cells": [
  {
   "cell_type": "code",
   "execution_count": 11,
   "id": "33f8b143-055e-4397-b6ac-cd8fb700a8c7",
   "metadata": {},
   "outputs": [
    {
     "ename": "ValueError",
     "evalue": "Expected end of text, found 'A'  (at char 13), (line:1, col:14): residueIndex A or residueIndex E\n                                                                                          ^^^",
     "output_type": "error",
     "traceback": [
      "\u001b[0;31m---------------------------------------------------------------------------\u001b[0m",
      "\u001b[0;31mParseException\u001b[0m                            Traceback (most recent call last)",
      "File \u001b[0;32m~/.local/lib/python3.11/site-packages/mdtraj/core/selection.py:397\u001b[0m, in \u001b[0;36mparse_selection.__call__\u001b[0;34m(self, selection)\u001b[0m\n\u001b[1;32m    396\u001b[0m \u001b[38;5;28;01mtry\u001b[39;00m:\n\u001b[0;32m--> 397\u001b[0m     parse_result \u001b[38;5;241m=\u001b[39m \u001b[38;5;28mself\u001b[39m\u001b[38;5;241m.\u001b[39mexpression\u001b[38;5;241m.\u001b[39mparseString(selection, parseAll\u001b[38;5;241m=\u001b[39m\u001b[38;5;28;01mTrue\u001b[39;00m)\n\u001b[1;32m    398\u001b[0m \u001b[38;5;28;01mexcept\u001b[39;00m ParseException \u001b[38;5;28;01mas\u001b[39;00m e:\n",
      "File \u001b[0;32m/share/apps/anaconda3/2024.02/lib/python3.11/site-packages/pyparsing/core.py:1141\u001b[0m, in \u001b[0;36mParserElement.parse_string\u001b[0;34m(self, instring, parse_all, parseAll)\u001b[0m\n\u001b[1;32m   1139\u001b[0m     \u001b[38;5;28;01melse\u001b[39;00m:\n\u001b[1;32m   1140\u001b[0m         \u001b[38;5;66;03m# catch and re-raise exception from here, clearing out pyparsing internal stack trace\u001b[39;00m\n\u001b[0;32m-> 1141\u001b[0m         \u001b[38;5;28;01mraise\u001b[39;00m exc\u001b[38;5;241m.\u001b[39mwith_traceback(\u001b[38;5;28;01mNone\u001b[39;00m)\n\u001b[1;32m   1142\u001b[0m \u001b[38;5;28;01melse\u001b[39;00m:\n",
      "\u001b[0;31mParseException\u001b[0m: Expected end of text, found 'A'  (at char 13), (line:1, col:14)",
      "\nDuring handling of the above exception, another exception occurred:\n",
      "\u001b[0;31mValueError\u001b[0m                                Traceback (most recent call last)",
      "Cell \u001b[0;32mIn[11], line 18\u001b[0m\n\u001b[1;32m     15\u001b[0m csseqi_selection \u001b[38;5;241m=\u001b[39m \u001b[38;5;124m'\u001b[39m\u001b[38;5;124m or \u001b[39m\u001b[38;5;124m'\u001b[39m\u001b[38;5;241m.\u001b[39mjoin([\u001b[38;5;124m'\u001b[39m\u001b[38;5;124mresidueIndex \u001b[39m\u001b[38;5;132;01m{}\u001b[39;00m\u001b[38;5;124m'\u001b[39m\u001b[38;5;241m.\u001b[39mformat(csseqi) \u001b[38;5;28;01mfor\u001b[39;00m csseqi \u001b[38;5;129;01min\u001b[39;00m csseqi_list])\n\u001b[1;32m     17\u001b[0m \u001b[38;5;66;03m# Select NSP13 amino acids (adjust chainID and resname accordingly)\u001b[39;00m\n\u001b[0;32m---> 18\u001b[0m nsp13_indices \u001b[38;5;241m=\u001b[39m trajectory\u001b[38;5;241m.\u001b[39mtop\u001b[38;5;241m.\u001b[39mselect(csseqi_selection)\n\u001b[1;32m     20\u001b[0m \u001b[38;5;66;03m# Function to find nearby residues\u001b[39;00m\n\u001b[1;32m     21\u001b[0m \u001b[38;5;28;01mdef\u001b[39;00m \u001b[38;5;21mfind_nearby_residues\u001b[39m(coords, indices, cutoff):\n",
      "File \u001b[0;32m~/.local/lib/python3.11/site-packages/mdtraj/core/topology.py:1158\u001b[0m, in \u001b[0;36mTopology.select\u001b[0;34m(self, selection_string)\u001b[0m\n\u001b[1;32m   1135\u001b[0m \u001b[38;5;28;01mdef\u001b[39;00m \u001b[38;5;21mselect\u001b[39m(\u001b[38;5;28mself\u001b[39m, selection_string):\n\u001b[1;32m   1136\u001b[0m \u001b[38;5;250m    \u001b[39m\u001b[38;5;124;03m\"\"\"Execute a selection against the topology\u001b[39;00m\n\u001b[1;32m   1137\u001b[0m \n\u001b[1;32m   1138\u001b[0m \u001b[38;5;124;03m    Parameters\u001b[39;00m\n\u001b[0;32m   (...)\u001b[0m\n\u001b[1;32m   1155\u001b[0m \u001b[38;5;124;03m    select_expression, mdtraj.core.selection.parse_selection\u001b[39;00m\n\u001b[1;32m   1156\u001b[0m \u001b[38;5;124;03m    \"\"\"\u001b[39;00m\n\u001b[0;32m-> 1158\u001b[0m     filter_func \u001b[38;5;241m=\u001b[39m parse_selection(selection_string)\u001b[38;5;241m.\u001b[39mexpr\n\u001b[1;32m   1159\u001b[0m     indices \u001b[38;5;241m=\u001b[39m np\u001b[38;5;241m.\u001b[39marray([a\u001b[38;5;241m.\u001b[39mindex \u001b[38;5;28;01mfor\u001b[39;00m a \u001b[38;5;129;01min\u001b[39;00m \u001b[38;5;28mself\u001b[39m\u001b[38;5;241m.\u001b[39matoms \u001b[38;5;28;01mif\u001b[39;00m filter_func(a)])\n\u001b[1;32m   1160\u001b[0m     \u001b[38;5;28;01mreturn\u001b[39;00m indices\n",
      "File \u001b[0;32m~/.local/lib/python3.11/site-packages/mdtraj/core/selection.py:404\u001b[0m, in \u001b[0;36mparse_selection.__call__\u001b[0;34m(self, selection)\u001b[0m\n\u001b[1;32m    399\u001b[0m     msg \u001b[38;5;241m=\u001b[39m \u001b[38;5;28mstr\u001b[39m(e)\n\u001b[1;32m    400\u001b[0m     lines \u001b[38;5;241m=\u001b[39m [\n\u001b[1;32m    401\u001b[0m         \u001b[38;5;124mf\u001b[39m\u001b[38;5;124m\"\u001b[39m\u001b[38;5;132;01m{\u001b[39;00mmsg\u001b[38;5;132;01m}\u001b[39;00m\u001b[38;5;124m: \u001b[39m\u001b[38;5;132;01m{\u001b[39;00mselection\u001b[38;5;132;01m}\u001b[39;00m\u001b[38;5;124m\"\u001b[39m,\n\u001b[1;32m    402\u001b[0m         \u001b[38;5;124m\"\u001b[39m\u001b[38;5;124m \u001b[39m\u001b[38;5;124m\"\u001b[39m \u001b[38;5;241m*\u001b[39m (\u001b[38;5;241m12\u001b[39m \u001b[38;5;241m+\u001b[39m \u001b[38;5;28mlen\u001b[39m(\u001b[38;5;124m\"\u001b[39m\u001b[38;5;132;01m%s\u001b[39;00m\u001b[38;5;124m: \u001b[39m\u001b[38;5;124m\"\u001b[39m \u001b[38;5;241m%\u001b[39m msg) \u001b[38;5;241m+\u001b[39m e\u001b[38;5;241m.\u001b[39mloc) \u001b[38;5;241m+\u001b[39m \u001b[38;5;124m\"\u001b[39m\u001b[38;5;124m^^^\u001b[39m\u001b[38;5;124m\"\u001b[39m,\n\u001b[1;32m    403\u001b[0m     ]\n\u001b[0;32m--> 404\u001b[0m     \u001b[38;5;28;01mraise\u001b[39;00m \u001b[38;5;167;01mValueError\u001b[39;00m(\u001b[38;5;124m\"\u001b[39m\u001b[38;5;130;01m\\n\u001b[39;00m\u001b[38;5;124m\"\u001b[39m\u001b[38;5;241m.\u001b[39mjoin(lines))\n\u001b[1;32m    406\u001b[0m \u001b[38;5;66;03m# Change __ATOM__ in function bodies. It must bind to the arg\u001b[39;00m\n\u001b[1;32m    407\u001b[0m \u001b[38;5;66;03m# name specified below (i.e. 'atom')\u001b[39;00m\n\u001b[1;32m    408\u001b[0m astnode \u001b[38;5;241m=\u001b[39m \u001b[38;5;28mself\u001b[39m\u001b[38;5;241m.\u001b[39mtransformer\u001b[38;5;241m.\u001b[39mvisit(deepcopy(parse_result[\u001b[38;5;241m0\u001b[39m]\u001b[38;5;241m.\u001b[39mast()))\n",
      "\u001b[0;31mValueError\u001b[0m: Expected end of text, found 'A'  (at char 13), (line:1, col:14): residueIndex A or residueIndex E\n                                                                                          ^^^"
     ]
    }
   ],
   "source": [
    "import mdtraj as md\n",
    "import numpy as np\n",
    "\n",
    "# Load your PDB or trajectory file\n",
    "trajectory = md.load('/scratch/work/courses/CHEM-GA-2671-2024fa/students/mr6966/comp-lab-class-2024-MR/Week7-Alphafold/7nio.pdb')\n",
    "\n",
    "# Select RNA phosphate atoms (adjust resname if necessary)\n",
    "phosphate_indices = trajectory.top.select('name P and resname RNA')\n",
    "\n",
    "# Select uracil oxygen atoms (adjust resname if necessary)\n",
    "uracil_oxygen_indices = trajectory.top.select('name O4 or name O2 and resname U')\n",
    "\n",
    "csseqi_list = ['A','E']\n",
    "\n",
    "csseqi_selection = ' or '.join(['residueIndex {}'.format(csseqi) for csseqi in csseqi_list])\n",
    "\n",
    "# Select NSP13 amino acids (adjust chainID and resname accordingly)\n",
    "nsp13_indices = trajectory.top.select(csseqi_selection)\n",
    "\n",
    "# Function to find nearby residues\n",
    "def find_nearby_residues(coords, indices, cutoff):\n",
    "    nearby_residues = set()\n",
    "    for coord in coords:\n",
    "        distances = np.linalg.norm(coord - trajectory.xyz[:, indices, :], axis=1)\n",
    "        nearby_indices = indices[np.where(distances < cutoff)]\n",
    "        nearby_residues.update(nearby_indices)\n",
    "    return nearby_residues\n",
    "\n",
    "# Average coordinates for phosphate and uracil oxygen atoms\n",
    "phosphate_coords = trajectory.xyz[:, phosphate_indices, :].mean(axis=1)\n",
    "uracil_coords = trajectory.xyz[:, uracil_oxygen_indices, :].mean(axis=1)\n",
    "\n",
    "# Find nearby NSP13 residues\n",
    "nearby_phosphate = find_nearby_residues(phosphate_coords, nsp13_indices, 0.5)\n",
    "nearby_uracil = find_nearby_residues(uracil_coords, nsp13_indices, 0.5)\n",
    "\n",
    "# Print results\n",
    "print(\"Amino acids in NSP13 within 0.5 nm of RNA phosphate atoms:\", nearby_phosphate)\n",
    "print(\"Amino acids in NSP13 within 0.5 nm of uracil oxygens:\", nearby_uracil)\n"
   ]
  },
  {
   "cell_type": "code",
   "execution_count": null,
   "id": "621b7b76-097a-43cd-b2ab-0b2779884190",
   "metadata": {},
   "outputs": [],
   "source": []
  }
 ],
 "metadata": {
  "kernelspec": {
   "display_name": "Python 3 (ipykernel)",
   "language": "python",
   "name": "python3"
  },
  "language_info": {
   "codemirror_mode": {
    "name": "ipython",
    "version": 3
   },
   "file_extension": ".py",
   "mimetype": "text/x-python",
   "name": "python",
   "nbconvert_exporter": "python",
   "pygments_lexer": "ipython3",
   "version": "3.11.7"
  }
 },
 "nbformat": 4,
 "nbformat_minor": 5
}
